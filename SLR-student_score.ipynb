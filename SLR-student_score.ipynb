{
 "cells": [
  {
   "cell_type": "markdown",
   "id": "129a4fee-d394-4e10-99bb-e523d89610ee",
   "metadata": {
    "tags": []
   },
   "source": [
    "## Simple Linear Regression to predict students score"
   ]
  },
  {
   "cell_type": "markdown",
   "id": "983bafe1-68d1-4de5-b1c7-3e5854da0f7e",
   "metadata": {},
   "source": [
    "#### 1. Importing needed libraries"
   ]
  },
  {
   "cell_type": "code",
   "execution_count": 1,
   "id": "a227fe89-33dd-403d-8243-6448c54ff0ae",
   "metadata": {},
   "outputs": [],
   "source": [
    "import numpy as np\n",
    "import pandas as pd\n",
    "import matplotlib.pyplot as plt\n",
    "import seaborn as sns\n",
    "%matplotlib inline"
   ]
  },
  {
   "cell_type": "markdown",
   "id": "c6a351aa-39fa-4c87-bbb8-277c4e61676c",
   "metadata": {},
   "source": [
    "#### 2. Loading dataset to padas dataframe and displaying first 5 rows"
   ]
  },
  {
   "cell_type": "code",
   "execution_count": 2,
   "id": "3fa963d0-68fb-4256-a199-22a401bf3a82",
   "metadata": {},
   "outputs": [
    {
     "data": {
      "text/html": [
       "<div><div id=0251032e-dd5c-4e1a-b9b4-7f4e16e8fc22 style=\"display:none; background-color:#9D6CFF; color:white; width:200px; height:30px; padding-left:5px; border-radius:4px; flex-direction:row; justify-content:space-around; align-items:center;\" onmouseover=\"this.style.backgroundColor='#BA9BF8'\" onmouseout=\"this.style.backgroundColor='#9D6CFF'\" onclick=\"window.commands?.execute('create-mitosheet-from-dataframe-output');\">See Full Dataframe in Mito</div> <script> if (window.commands.hasCommand('create-mitosheet-from-dataframe-output')) document.getElementById('0251032e-dd5c-4e1a-b9b4-7f4e16e8fc22').style.display = 'flex' </script> <table border=\"1\" class=\"dataframe\">\n",
       "  <thead>\n",
       "    <tr style=\"text-align: right;\">\n",
       "      <th></th>\n",
       "      <th>Hours</th>\n",
       "      <th>Scores</th>\n",
       "    </tr>\n",
       "  </thead>\n",
       "  <tbody>\n",
       "    <tr>\n",
       "      <th>0</th>\n",
       "      <td>2.5</td>\n",
       "      <td>21</td>\n",
       "    </tr>\n",
       "    <tr>\n",
       "      <th>1</th>\n",
       "      <td>5.1</td>\n",
       "      <td>47</td>\n",
       "    </tr>\n",
       "    <tr>\n",
       "      <th>2</th>\n",
       "      <td>3.2</td>\n",
       "      <td>27</td>\n",
       "    </tr>\n",
       "    <tr>\n",
       "      <th>3</th>\n",
       "      <td>8.5</td>\n",
       "      <td>75</td>\n",
       "    </tr>\n",
       "    <tr>\n",
       "      <th>4</th>\n",
       "      <td>3.5</td>\n",
       "      <td>30</td>\n",
       "    </tr>\n",
       "  </tbody>\n",
       "</table></div>"
      ],
      "text/plain": [
       "   Hours  Scores\n",
       "0    2.5      21\n",
       "1    5.1      47\n",
       "2    3.2      27\n",
       "3    8.5      75\n",
       "4    3.5      30"
      ]
     },
     "execution_count": 2,
     "metadata": {},
     "output_type": "execute_result"
    }
   ],
   "source": [
    "df = pd.read_csv('student_scores - student_scores.csv')\n",
    "df.head()"
   ]
  },
  {
   "cell_type": "markdown",
   "id": "0f250610-f5ad-4147-bdb5-e4c80271bf7f",
   "metadata": {},
   "source": [
    "#### 3. Creating regression plot to check the relation between studying hours and score"
   ]
  },
  {
   "cell_type": "code",
   "execution_count": 3,
   "id": "82b29919-f5e1-4a16-bfd5-9fc189a9b2a9",
   "metadata": {},
   "outputs": [
    {
     "name": "stderr",
     "output_type": "stream",
     "text": [
      "c:\\users\\data_analyst\\appdata\\local\\programs\\python\\python39-32\\lib\\site-packages\\seaborn\\_decorators.py:36: FutureWarning: Pass the following variables as keyword args: x, y. From version 0.12, the only valid positional argument will be `data`, and passing other arguments without an explicit keyword will result in an error or misinterpretation.\n",
      "  warnings.warn(\n"
     ]
    },
    {
     "data": {
      "image/png": "[encoded data removed]",
      "text/plain": [
       "<Figure size 432x288 with 1 Axes>"
      ]
     },
     "metadata": {
      "needs_background": "light"
     },
     "output_type": "display_data"
    }
   ],
   "source": [
    "x = df['Hours']\n",
    "y = df['Scores']\n",
    "plt.title('Hours vs. Score correlation')\n",
    "plt.xlabel('Hours')\n",
    "plt.ylabel('Score')\n",
    "sns.regplot(x, y);"
   ]
  },
  {
   "cell_type": "markdown",
   "id": "5ab27f13-e7e8-4326-a1b1-f51672003f32",
   "metadata": {},
   "source": [
    "##### *From the above plot we see strong positive correlation between hours and score.*"
   ]
  },
  {
   "cell_type": "markdown",
   "id": "cf096a15-454e-4f0b-b046-41a14729c75a",
   "metadata": {},
   "source": [
    "####  4. Preparing data to make regression model"
   ]
  },
  {
   "cell_type": "code",
   "execution_count": 7,
   "id": "f3d662f9-25d8-4483-b8bd-d0a458598fdc",
   "metadata": {},
   "outputs": [],
   "source": [
    "X = df.iloc[:, :-1].values\n",
    "y = df.iloc[:, 1].values "
   ]
  },
  {
   "cell_type": "markdown",
   "id": "efac4972-7443-4925-b2e5-4408f98a5efb",
   "metadata": {},
   "source": [
    "#### 5. Creating regression model"
   ]
  },
  {
   "cell_type": "code",
   "execution_count": 8,
   "id": "efa2270d-9405-4fb7-8766-8cfe0e1896d9",
   "metadata": {},
   "outputs": [],
   "source": [
    "from sklearn.model_selection import train_test_split\n",
    "from sklearn.linear_model import LinearRegression\n",
    "\n",
    "x_train, x_test, y_train, y_test = train_test_split(X, y, test_size = 0.3, random_state = 0)"
   ]
  },
  {
   "cell_type": "code",
   "execution_count": 9,
   "id": "fff434eb-9149-4f78-a860-dd30f4794023",
   "metadata": {},
   "outputs": [
    {
     "data": {
      "text/plain": [
       "LinearRegression()"
      ]
     },
     "execution_count": 9,
     "metadata": {},
     "output_type": "execute_result"
    }
   ],
   "source": [
    "lr = LinearRegression()\n",
    "lr.fit(x_train, y_train)"
   ]
  },
  {
   "cell_type": "markdown",
   "id": "4c32d722-c590-4f1b-af46-9896b054f6e2",
   "metadata": {},
   "source": [
    "#### 6. Making predictions with our model"
   ]
  },
  {
   "cell_type": "code",
   "execution_count": 10,
   "id": "cb77e8fb-1420-4ac8-8129-f64b74206a93",
   "metadata": {},
   "outputs": [],
   "source": [
    "y_pred = lr.predict(x_test)"
   ]
  },
  {
   "cell_type": "markdown",
   "id": "7317ebcc-03ae-4ac3-8257-b5ea05e8560e",
   "metadata": {},
   "source": [
    "#### 7. Evaluating the model"
   ]
  },
  {
   "cell_type": "code",
   "execution_count": 13,
   "id": "26c5550d-d955-4d28-be2b-d175256cc05e",
   "metadata": {},
   "outputs": [
    {
     "data": {
      "text/plain": [
       "4.419727808027654"
      ]
     },
     "execution_count": 13,
     "metadata": {},
     "output_type": "execute_result"
    }
   ],
   "source": [
    "from sklearn import metrics\n",
    "metrics.mean_absolute_error(y_test, y_pred)"
   ]
  },
  {
   "cell_type": "code",
   "execution_count": 19,
   "id": "b9aad775-089a-4f83-bcd5-fa955bdee967",
   "metadata": {},
   "outputs": [
    {
     "data": {
      "text/plain": [
       "array([92.91505723])"
      ]
     },
     "execution_count": 19,
     "metadata": {},
     "output_type": "execute_result"
    }
   ],
   "source": [
    "test = np.array([9.25])\n",
    "test.reshape(1, -1)\n",
    "lr.predict([test])"
   ]
  },
  {
   "cell_type": "code",
   "execution_count": null,
   "id": "1af2b25b-dfe9-4f1f-b6a5-3235088efeca",
   "metadata": {},
   "outputs": [],
   "source": []
  }
 ],
 "metadata": {
  "kernelspec": {
   "display_name": "Python 3 (ipykernel)",
   "language": "python",
   "name": "python3"
  },
  "language_info": {
   "codemirror_mode": {
    "name": "ipython",
    "version": 3
   },
   "file_extension": ".py",
   "mimetype": "text/x-python",
   "name": "python",
   "nbconvert_exporter": "python",
   "pygments_lexer": "ipython3",
   "version": "3.9.5"
  }
 },
 "nbformat": 4,
 "nbformat_minor": 5
}
